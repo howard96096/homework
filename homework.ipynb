{
 "cells": [
  {
   "cell_type": "code",
   "execution_count": 1,
   "metadata": {},
   "outputs": [
    {
     "name": "stdout",
     "output_type": "stream",
     "text": [
      "Enter the height:25\n",
      "Enter the width:4\n",
      "25\n",
      "4\n",
      "Area=100.00\n",
      "Perimeter=58.00\n"
     ]
    }
   ],
   "source": [
    "height=eval(input('Enter the height:'))\n",
    "width=eval(input('Enter the width:'))\n",
    "area=height*width\n",
    "perimeter=2*height+2*width\n",
    "print(height)\n",
    "print(width)\n",
    "print('Area=%.2f'%(area))\n",
    "print('Perimeter=%.2f'%(perimeter))"
   ]
  },
  {
   "cell_type": "code",
   "execution_count": 2,
   "metadata": {},
   "outputs": [
    {
     "name": "stdout",
     "output_type": "stream",
     "text": [
      "Enter the Side length of regular triangle:10\n",
      "Height=8.66\n",
      "Area=43.30\n"
     ]
    }
   ],
   "source": [
    "S=eval(input('Enter the Side length of regular triangle:'))\n",
    "import math\n",
    "height=(math.sqrt(3)/2*S)\n",
    "area=(math.sqrt(3)/4*(S**2))\n",
    "print('Height=%.2f'%(height))\n",
    "print('Area=%.2f'%(area))"
   ]
  },
  {
   "cell_type": "code",
   "execution_count": 3,
   "metadata": {},
   "outputs": [
    {
     "name": "stdout",
     "output_type": "stream",
     "text": [
      "Enter the min:30\n",
      "Enter the sec:60\n",
      "Enter the km:2\n",
      "Speed=1.88\n"
     ]
    }
   ],
   "source": [
    "#x=分鐘\n",
    "#y=秒鐘    \n",
    "#z=公里    \n",
    "x=eval(input('Enter the min:'))\n",
    "y=eval(input('Enter the sec:'))\n",
    "z=eval(input('Enter the km:'))\n",
    "Miles=z/1.6\n",
    "hour=x/60+y/360\n",
    "speed=z/1.6/(x/60+y/360)\n",
    "print('Speed=%.2f'%(speed))"
   ]
  },
  {
   "cell_type": "code",
   "execution_count": 4,
   "metadata": {},
   "outputs": [
    {
     "name": "stdout",
     "output_type": "stream",
     "text": [
      "Enter the miles:2\n",
      "Km=3.20\n"
     ]
    }
   ],
   "source": [
    "miles=eval(input('Enter the miles:'))\n",
    "Km=miles*1.6\n",
    "print('Km=%.2f'%(Km))"
   ]
  },
  {
   "cell_type": "code",
   "execution_count": 5,
   "metadata": {},
   "outputs": [
    {
     "name": "stdout",
     "output_type": "stream",
     "text": [
      "Enter the 華氏溫度:100\n",
      "攝氏溫度=37.78\n"
     ]
    }
   ],
   "source": [
    "華氏溫度=eval(input('Enter the 華氏溫度:'))\n",
    "攝氏溫度=((華氏溫度-32)*5/9)\n",
    "print('攝氏溫度=%.2f'%(攝氏溫度))"
   ]
  },
  {
   "cell_type": "code",
   "execution_count": 7,
   "metadata": {},
   "outputs": [
    {
     "name": "stdout",
     "output_type": "stream",
     "text": [
      "Enter the 整數1:7\n",
      "Enter the 整數2:8\n",
      "Enter the 整數3:9\n",
      "總和=24.00\n",
      "平均數=8.00\n"
     ]
    }
   ],
   "source": [
    "整數1=eval(input('Enter the 整數1:'))\n",
    "整數2=eval(input('Enter the 整數2:'))\n",
    "整數3=eval(input('Enter the 整數3:'))\n",
    "總和=整數1+整數2+整數3\n",
    "平均數=(整數1+整數2+整數3)/3\n",
    "print('總和=%.2f'%(總和))\n",
    "print('平均數=%.2f'%(平均數))"
   ]
  },
  {
   "cell_type": "code",
   "execution_count": 8,
   "metadata": {},
   "outputs": [
    {
     "name": "stdout",
     "output_type": "stream",
     "text": [
      "Enter the 圓的半徑:10\n",
      "圓面積=314.16\n",
      "圓周長=62.83\n"
     ]
    }
   ],
   "source": [
    "圓的半徑=eval(input('Enter the 圓的半徑:'))\n",
    "圓面積=圓的半徑*圓的半徑*3.14159\n",
    "圓周長=圓的半徑*2*3.14159\n",
    "print('圓面積=%.2f'%(圓面積))\n",
    "print('圓周長=%.2f'%(圓周長))"
   ]
  },
  {
   "cell_type": "code",
   "execution_count": 9,
   "metadata": {},
   "outputs": [
    {
     "name": "stdout",
     "output_type": "stream",
     "text": [
      "Enter the height:20\n",
      "Enter the width:5\n",
      "20\n",
      "5\n",
      "Area=100.00\n",
      "Perimeter=50.00\n"
     ]
    }
   ],
   "source": [
    "height=eval(input('Enter the height:'))\n",
    "width=eval(input('Enter the width:'))\n",
    "area=height*width\n",
    "perimeter=2*height+2*width\n",
    "print(height)\n",
    "print(width)\n",
    "print('Area=%.2f'%(area))\n",
    "print('Perimeter=%.2f'%(perimeter))"
   ]
  },
  {
   "cell_type": "code",
   "execution_count": 19,
   "metadata": {},
   "outputs": [
    {
     "name": "stdout",
     "output_type": "stream",
     "text": [
      "Enter the x:1\n",
      "Enter the y:3\n",
      "1\n",
      "3\n",
      "((3+4*x)/5)-((10*(y-5)*(x+y+5))/x)+(9*((4/x)+((9+x)/y)))=247.40\n"
     ]
    }
   ],
   "source": [
    "x=eval(input('Enter the x:'))\n",
    "y=eval(input('Enter the y:'))\n",
    "ans=((3+4*x)/5)-((10*(y-5)*(x+y+5))/x)+(9*((4/x)+((9+x)/y)))\n",
    "print(x)\n",
    "print(y)\n",
    "print('((3+4*x)/5)-((10*(y-5)*(x+y+5))/x)+(9*((4/x)+((9+x)/y)))=%.2f'%(ans))"
   ]
  },
  {
   "cell_type": "code",
   "execution_count": 17,
   "metadata": {},
   "outputs": [
    {
     "name": "stdout",
     "output_type": "stream",
     "text": [
      "Enter the a:2\n",
      "Enter the b:4\n",
      "Enter the c:6\n",
      "2\n",
      "4\n",
      "6\n",
      "(4/(3*(a+34)))-(9*(a+b*c))+((3+(3*(2+a)))/(a+3*b))=-214.46\n"
     ]
    }
   ],
   "source": [
    "a=eval(input('Enter the a:'))\n",
    "b=eval(input('Enter the b:'))\n",
    "c=eval(input('Enter the c:'))\n",
    "ans=(4/(3*(a+34)))-(9*(a+b*c))+((3+(3*(2+a)))/a+3*b)\n",
    "print(a)\n",
    "print(b)\n",
    "print(c)\n",
    "print('(4/(3*(a+34)))-(9*(a+b*c))+((3+(3*(2+a)))/(a+3*b))=%.2f'%(ans))"
   ]
  },
  {
   "cell_type": "code",
   "execution_count": 22,
   "metadata": {},
   "outputs": [
    {
     "name": "stdout",
     "output_type": "stream",
     "text": [
      "Enter the n:5\n",
      "Enter the s:6.5\n",
      "5\n",
      "6.5\n",
      "(n*s**2)/(4*math.tan(math.pi/n))=72.69\n"
     ]
    }
   ],
   "source": [
    "#n=n邊形\n",
    "#s=n邊形的邊長\n",
    "n=eval(input('Enter the n:'))\n",
    "s=eval(input('Enter the s:'))\n",
    "import math\n",
    "area=(n*s**2)/(4*math.tan(math.pi/n))\n",
    "print(n)\n",
    "print(s)\n",
    "print('(n*s**2)/(4*math.tan(math.pi/n))=%.2f'%(area))"
   ]
  },
  {
   "cell_type": "code",
   "execution_count": 23,
   "metadata": {},
   "outputs": [
    {
     "name": "stdout",
     "output_type": "stream",
     "text": [
      "Enter the x1:2\n",
      "Enter the y1:1\n",
      "Enter the x2:5.5\n",
      "Enter the y2:8\n",
      "math.sqrt(((x1-x2)**2+(y1-y2)**2))=7.83\n"
     ]
    }
   ],
   "source": [
    "#座標1=(x1,y1)\n",
    "#座標2=(x2,y2)\n",
    "x1=eval(input('Enter the x1:'))\n",
    "y1=eval(input('Enter the y1:'))\n",
    "x2=eval(input('Enter the x2:'))\n",
    "y2=eval(input('Enter the y2:'))\n",
    "import math\n",
    "距離=math.sqrt(((x1-x2)**2+(y1-y2)**2))\n",
    "print('math.sqrt(((x1-x2)**2+(y1-y2)**2))=%.2f'%(距離))"
   ]
  },
  {
   "cell_type": "code",
   "execution_count": 27,
   "metadata": {},
   "outputs": [
    {
     "name": "stdout",
     "output_type": "stream",
     "text": [
      "Enter the a:5\n",
      "Enter the b:6\n",
      "Enter the c:7\n",
      "9.0\n",
      "math.sqrt(s*(s-a)*(s-b)*(s-c))=14.70\n"
     ]
    }
   ],
   "source": [
    "#三角形的三邊長=a,b,c\n",
    "a=eval(input('Enter the a:'))\n",
    "b=eval(input('Enter the b:'))\n",
    "c=eval(input('Enter the c:'))\n",
    "s=(a+b+c)/2\n",
    "import math\n",
    "area=math.sqrt(s*(s-a)*(s-b)*(s-c))\n",
    "print(s)\n",
    "print('math.sqrt(s*(s-a)*(s-b)*(s-c))=%.2f'%(area))"
   ]
  },
  {
   "cell_type": "code",
   "execution_count": 46,
   "metadata": {},
   "outputs": [
    {
     "name": "stdout",
     "output_type": "stream",
     "text": [
      "Enter the a:1\n",
      "Enter the b:2\n",
      "Enter the c:3\n"
     ]
    },
    {
     "ename": "ValueError",
     "evalue": "math domain error",
     "output_type": "error",
     "traceback": [
      "\u001b[1;31m---------------------------------------------------------------------------\u001b[0m",
      "\u001b[1;31mValueError\u001b[0m                                Traceback (most recent call last)",
      "\u001b[1;32m<ipython-input-46-97551c952925>\u001b[0m in \u001b[0;36m<module>\u001b[1;34m\u001b[0m\n\u001b[0;32m      4\u001b[0m \u001b[0mc\u001b[0m\u001b[1;33m=\u001b[0m\u001b[0meval\u001b[0m\u001b[1;33m(\u001b[0m\u001b[0minput\u001b[0m\u001b[1;33m(\u001b[0m\u001b[1;34m'Enter the c:'\u001b[0m\u001b[1;33m)\u001b[0m\u001b[1;33m)\u001b[0m\u001b[1;33m\u001b[0m\u001b[1;33m\u001b[0m\u001b[0m\n\u001b[0;32m      5\u001b[0m \u001b[1;32mimport\u001b[0m \u001b[0mmath\u001b[0m\u001b[1;33m\u001b[0m\u001b[1;33m\u001b[0m\u001b[0m\n\u001b[1;32m----> 6\u001b[1;33m \u001b[0m根1\u001b[0m\u001b[1;33m=\u001b[0m\u001b[1;33m(\u001b[0m\u001b[1;33m(\u001b[0m\u001b[1;33m(\u001b[0m\u001b[1;33m-\u001b[0m\u001b[0mb\u001b[0m\u001b[1;33m)\u001b[0m\u001b[1;33m+\u001b[0m\u001b[1;33m(\u001b[0m\u001b[0mmath\u001b[0m\u001b[1;33m.\u001b[0m\u001b[0msqrt\u001b[0m\u001b[1;33m(\u001b[0m\u001b[0mb\u001b[0m\u001b[1;33m**\u001b[0m\u001b[1;36m2\u001b[0m\u001b[1;33m-\u001b[0m\u001b[1;33m(\u001b[0m\u001b[1;36m4\u001b[0m\u001b[1;33m*\u001b[0m\u001b[0ma\u001b[0m\u001b[1;33m*\u001b[0m\u001b[0mc\u001b[0m\u001b[1;33m)\u001b[0m\u001b[1;33m)\u001b[0m\u001b[1;33m)\u001b[0m\u001b[1;33m)\u001b[0m\u001b[1;33m/\u001b[0m\u001b[1;33m(\u001b[0m\u001b[1;36m2\u001b[0m\u001b[1;33m*\u001b[0m\u001b[0ma\u001b[0m\u001b[1;33m)\u001b[0m\u001b[1;33m)\u001b[0m\u001b[1;33m\u001b[0m\u001b[1;33m\u001b[0m\u001b[0m\n\u001b[0m\u001b[0;32m      7\u001b[0m \u001b[0m根2\u001b[0m\u001b[1;33m=\u001b[0m\u001b[1;33m(\u001b[0m\u001b[1;33m(\u001b[0m\u001b[1;33m(\u001b[0m\u001b[1;33m-\u001b[0m\u001b[0mb\u001b[0m\u001b[1;33m)\u001b[0m\u001b[1;33m-\u001b[0m\u001b[1;33m(\u001b[0m\u001b[0mmath\u001b[0m\u001b[1;33m.\u001b[0m\u001b[0msqrt\u001b[0m\u001b[1;33m(\u001b[0m\u001b[0mb\u001b[0m\u001b[1;33m**\u001b[0m\u001b[1;36m2\u001b[0m\u001b[1;33m-\u001b[0m\u001b[1;33m(\u001b[0m\u001b[1;36m4\u001b[0m\u001b[1;33m*\u001b[0m\u001b[0ma\u001b[0m\u001b[1;33m*\u001b[0m\u001b[0mc\u001b[0m\u001b[1;33m)\u001b[0m\u001b[1;33m)\u001b[0m\u001b[1;33m)\u001b[0m\u001b[1;33m)\u001b[0m\u001b[1;33m/\u001b[0m\u001b[1;33m(\u001b[0m\u001b[1;36m2\u001b[0m\u001b[1;33m*\u001b[0m\u001b[0ma\u001b[0m\u001b[1;33m)\u001b[0m\u001b[1;33m)\u001b[0m\u001b[1;33m\u001b[0m\u001b[1;33m\u001b[0m\u001b[0m\n\u001b[0;32m      8\u001b[0m \u001b[0mprint\u001b[0m\u001b[1;33m(\u001b[0m\u001b[1;34m'(-b)+(math.sqrt(b**2-4*a*c)))/(2*a)=%.2f'\u001b[0m\u001b[1;33m%\u001b[0m\u001b[1;33m(\u001b[0m\u001b[0m根1\u001b[0m\u001b[1;33m)\u001b[0m\u001b[1;33m)\u001b[0m\u001b[1;33m\u001b[0m\u001b[1;33m\u001b[0m\u001b[0m\n",
      "\u001b[1;31mValueError\u001b[0m: math domain error"
     ]
    }
   ],
   "source": [
    "#二元一次方程式ax**2+bx+c的兩個根為(-b+sqrt(b**2-4ac))/2和(-b-sqrt(b**2-4ac))/2\n",
    "a=eval(input('Enter the a:'))\n",
    "b=eval(input('Enter the b:'))\n",
    "c=eval(input('Enter the c:'))\n",
    "import math\n",
    "根1=(((-b)+(math.sqrt(b**2-(4*a*c))))/(2*a))\n",
    "根2=(((-b)-(math.sqrt(b**2-(4*a*c))))/(2*a))\n",
    "print('(-b)+(math.sqrt(b**2-4*a*c)))/(2*a)=%.2f'%(根1))\n",
    "print('(-b)-(math.sqrt(b**2-4*a*c)))/(2*a)=%.2f'%(根2))"
   ]
  },
  {
   "cell_type": "code",
   "execution_count": null,
   "metadata": {},
   "outputs": [],
   "source": [
    "#4-19-5"
   ]
  },
  {
   "cell_type": "code",
   "execution_count": 79,
   "metadata": {},
   "outputs": [
    {
     "name": "stdout",
     "output_type": "stream",
     "text": [
      "please input your 金額:20000\n",
      "18000.0\n"
     ]
    }
   ],
   "source": [
    "金額=eval(input(\"please input your 金額:\"))\n",
    "\n",
    "if 金額>=35000:\n",
    "    print(金額*0.8)\n",
    "elif 金額>=25000:\n",
    "    print(金額*0.85)\n",
    "elif 金額>=15000:\n",
    "    print(金額*0.9)\n",
    "elif 金額>=5000:\n",
    "    print(金額*0.95)\n",
    "else:\n",
    "    print(金額)"
   ]
  },
  {
   "cell_type": "code",
   "execution_count": 66,
   "metadata": {},
   "outputs": [
    {
     "name": "stdout",
     "output_type": "stream",
     "text": [
      "please input 月份:4\n",
      "夏天\n"
     ]
    }
   ],
   "source": [
    "月份=eval(input(\"please input 月份:\"))\n",
    "\n",
    "if 月份>=13:\n",
    "    print('Flase') \n",
    "elif 月份>=10:\n",
    "    print('冬天')\n",
    "elif 月份>=7:\n",
    "    print('秋天')\n",
    "elif 月份>=4:\n",
    "    print('夏天')\n",
    "elif 月份>1:\n",
    "    print('春天')"
   ]
  },
  {
   "cell_type": "code",
   "execution_count": 68,
   "metadata": {},
   "outputs": [
    {
     "name": "stdout",
     "output_type": "stream",
     "text": [
      "please input 歲數:66\n",
      "門票399元\n"
     ]
    }
   ],
   "source": [
    "歲數=eval(input(\"please input 歲數:\"))\n",
    "\n",
    "if 歲數>=60:\n",
    "    print('門票399元')\n",
    "elif 歲數>=18:\n",
    "    print('門票890元')\n",
    "elif 歲數>=6:\n",
    "    print('門票790元')\n",
    "elif 歲數>=0:\n",
    "    print('門票免費')"
   ]
  },
  {
   "cell_type": "code",
   "execution_count": 70,
   "metadata": {},
   "outputs": [
    {
     "name": "stdout",
     "output_type": "stream",
     "text": [
      "please input 整數:33\n",
      "3的倍數\n"
     ]
    }
   ],
   "source": [
    "整數=eval(input(\"please input 整數:\"))\n",
    "\n",
    "if(整數%3==0)and(整數%5==0):\n",
    "    print('3和5的倍數')\n",
    "elif(整數%5)==0:\n",
    "    print('5的倍數')\n",
    "elif(整數%3)==0:\n",
    "    print('3的倍數')"
   ]
  },
  {
   "cell_type": "code",
   "execution_count": null,
   "metadata": {},
   "outputs": [],
   "source": [
    "字元=eval(input(\"please input 字元\"))"
   ]
  },
  {
   "cell_type": "code",
   "execution_count": 83,
   "metadata": {},
   "outputs": [
    {
     "name": "stdout",
     "output_type": "stream",
     "text": [
      "please input 綜合所得淨額:1581694\n",
      "181738.80000000005\n"
     ]
    }
   ],
   "source": [
    "綜合所得淨額=eval(input('please input 綜合所得淨額:'))\n",
    "\n",
    "if 綜合所得淨額>=10310001:\n",
    "    print(綜合所得淨額*0.45-1345100)\n",
    "elif 綜合所得淨額>=4530001:\n",
    "    print(綜合所得淨額*0.4-829600)\n",
    "elif 綜合所得淨額>=2420001:\n",
    "    print(綜合所得淨額*0.3-376600)\n",
    "elif 綜合所得淨額>=1210001:\n",
    "    print(綜合所得淨額*0.2-134600)\n",
    "elif 綜合所得淨額>=540001:\n",
    "    print(綜合所得淨額*0.12-37800)\n",
    "elif 綜合所得淨額>=0:\n",
    "    print(綜合所得淨額*0.05)"
   ]
  },
  {
   "cell_type": "code",
   "execution_count": null,
   "metadata": {},
   "outputs": [],
   "source": []
  },
  {
   "cell_type": "code",
   "execution_count": null,
   "metadata": {},
   "outputs": [],
   "source": []
  },
  {
   "cell_type": "code",
   "execution_count": null,
   "metadata": {},
   "outputs": [],
   "source": []
  }
 ],
 "metadata": {
  "kernelspec": {
   "display_name": "Python 3",
   "language": "python",
   "name": "python3"
  },
  "language_info": {
   "codemirror_mode": {
    "name": "ipython",
    "version": 3
   },
   "file_extension": ".py",
   "mimetype": "text/x-python",
   "name": "python",
   "nbconvert_exporter": "python",
   "pygments_lexer": "ipython3",
   "version": "3.8.3"
  }
 },
 "nbformat": 4,
 "nbformat_minor": 4
}
